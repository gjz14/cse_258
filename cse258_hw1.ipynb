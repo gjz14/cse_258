{
 "cells": [
  {
   "cell_type": "code",
   "execution_count": 141,
   "metadata": {},
   "outputs": [
    {
     "name": "stdout",
     "output_type": "stream",
     "text": [
      "Reading data...\n",
      "done\n"
     ]
    }
   ],
   "source": [
    "import numpy as np\n",
    "import urllib\n",
    "import scipy.optimize\n",
    "import random\n",
    "\n",
    "def parseData(fname):\n",
    "  for l in urllib.urlopen(fname):\n",
    "    yield eval(l)\n",
    "\n",
    "print \"Reading data...\"\n",
    "data = list(parseData(\"http://jmcauley.ucsd.edu/cse190/data/beer/beer_50000.json\"))\n",
    "print \"done\""
   ]
  },
  {
   "cell_type": "code",
   "execution_count": 142,
   "metadata": {},
   "outputs": [
    {
     "data": {
      "image/png": "[encoded data removed]",
      "text/plain": [
       "<matplotlib.figure.Figure at 0x7f396bd29dd0>"
      ]
     },
     "metadata": {},
     "output_type": "display_data"
    }
   ],
   "source": [
    "import matplotlib.pyplot as plt\n",
    "\n",
    "tastes = [d['review/taste'] for d in data]\n",
    "plt.hist(tastes, bins=[1,2,3,4,5,6,7])\n",
    "plt.show()\n",
    "\n"
   ]
  },
  {
   "cell_type": "code",
   "execution_count": 143,
   "metadata": {},
   "outputs": [
    {
     "data": {
      "text/plain": [
       "array([ 3.11795084, -0.05637406,  0.10877902])"
      ]
     },
     "execution_count": 143,
     "metadata": {},
     "output_type": "execute_result"
    }
   ],
   "source": [
    "data2 = [d for d in data if d.has_key('beer/style')]\n",
    "\n",
    "def feature(datum):\n",
    "  feat = [1]\n",
    "  if datum['beer/style'] == \"Hefeweizen\":\n",
    "    feat.append(1)\n",
    "  else:\n",
    "    feat.append(0)\n",
    "  feat.append(datum['beer/ABV'])\n",
    "  return feat\n",
    "\n",
    "X = [feature(d) for d in data2]\n",
    "y = [d['review/taste'] for d in data2]\n",
    "theta,residuals,rank,s = numpy.linalg.lstsq(X, y)\n",
    "\n",
    "theta\n"
   ]
  },
  {
   "cell_type": "code",
   "execution_count": 144,
   "metadata": {},
   "outputs": [
    {
     "data": {
      "text/plain": [
       "(0.48396805601342435, 0.42370652119852636)"
      ]
     },
     "execution_count": 144,
     "metadata": {},
     "output_type": "execute_result"
    }
   ],
   "source": [
    "train_data = data2[0:len(data2)/2]\n",
    "test_data  = data2[len(data2)/2:len(data2)]\n",
    "X_train = [feature(d) for d in train_data]\n",
    "X_test  = [feature(d) for d in test_data]\n",
    "y_train = [d['review/taste'] for d in train_data]\n",
    "y_test  = [d['review/taste'] for d in test_data]\n",
    "theta_train , residuals_train, rank_train, s_train = numpy.linalg.lstsq(X_train,y_train )\n",
    "mse_train = np.sum((np.array(X_train).dot(theta_train) - np.array(y_train))**2) / len(y_train)\n",
    "mse_test = np.sum((np.array(X_test).dot(theta_train) - np.array(y_test))**2) / len(y_test)\n",
    "\n",
    "mse_train, mse_test"
   ]
  },
  {
   "cell_type": "code",
   "execution_count": 145,
   "metadata": {},
   "outputs": [
    {
     "data": {
      "text/plain": [
       "(0.45149746442238053,\n",
       " 0.44784551076047202,\n",
       " array([ 3.12133335, -0.0881109 ,  0.10828441]))"
      ]
     },
     "execution_count": 145,
     "metadata": {},
     "output_type": "execute_result"
    }
   ],
   "source": [
    "np.random.shuffle(data2)\n",
    "train_data = data2[0:len(data2)/2]\n",
    "test_data  = data2[len(data2)/2:len(data2)]\n",
    "X_train = [feature(d) for d in train_data]\n",
    "X_test  = [feature(d) for d in test_data]\n",
    "y_train = [d['review/taste'] for d in train_data]\n",
    "y_test  = [d['review/taste'] for d in test_data]\n",
    "theta_train , residuals_train, rank_train, s_train = numpy.linalg.lstsq(X_train,y_train )\n",
    "mse_train = np.sum((np.array(X_train).dot(theta_train) - np.array(y_train))**2) / len(y_train)\n",
    "mse_test = np.sum((np.array(X_test).dot(theta_train) - np.array(y_test))**2) / len(y_test)\n",
    "\n",
    "mse_train, mse_test,theta_train\n"
   ]
  },
  {
   "cell_type": "code",
   "execution_count": 146,
   "metadata": {},
   "outputs": [
    {
     "data": {
      "text/plain": [
       "(0.45148857876742382,\n",
       " 0.44784435630465508,\n",
       " array([ 3.1214244 ,  0.09097198,  0.10827811]))"
      ]
     },
     "execution_count": 146,
     "metadata": {},
     "output_type": "execute_result"
    }
   ],
   "source": [
    "def feature2(datum):\n",
    "  feat = [1]\n",
    "  if datum['beer/style'] == \"Hefeweizen\":\n",
    "    feat.append(datum['beer/ABV'])\n",
    "    feat.append(0)\n",
    "  else:\n",
    "    feat.append(0)\n",
    "    feat.append(datum['beer/ABV'])\n",
    "  \n",
    "  return feat\n",
    "\n",
    "train_data = data2[0:len(data2)/2]\n",
    "test_data  = data2[len(data2)/2:len(data2)]\n",
    "X_train = [feature2(d) for d in train_data]\n",
    "X_test  = [feature2(d) for d in test_data]\n",
    "y_train = [d['review/taste'] for d in train_data]\n",
    "y_test  = [d['review/taste'] for d in test_data]\n",
    "theta_train , residuals_train, rank_train, s_train = numpy.linalg.lstsq(X_train,y_train )\n",
    "mse_train = np.sum((np.array(X_train).dot(theta_train) - np.array(y_train))**2) / len(y_train)\n",
    "mse_test = np.sum((np.array(X_test).dot(theta_train) - np.array(y_test))**2) / len(y_test)\n",
    "\n",
    "mse_train, mse_test, theta_train"
   ]
  }
 ],
 "metadata": {
  "kernelspec": {
   "display_name": "Python 2",
   "language": "python",
   "name": "python2"
  },
  "language_info": {
   "codemirror_mode": {
    "name": "ipython",
    "version": 2
   },
   "file_extension": ".py",
   "mimetype": "text/x-python",
   "name": "python",
   "nbconvert_exporter": "python",
   "pygments_lexer": "ipython2",
   "version": "2.7.13"
  }
 },
 "nbformat": 4,
 "nbformat_minor": 2
}
